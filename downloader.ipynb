{
 "cells": [
  {
   "cell_type": "code",
   "execution_count": 1,
   "metadata": {},
   "outputs": [],
   "source": [
    "from sec_edgar_downloader import Downloader"
   ]
  },
  {
   "cell_type": "code",
   "execution_count": 2,
   "metadata": {},
   "outputs": [],
   "source": [
    "def download_10k_filings(ticker):\n",
    "    downloader = Downloader(company_name='School', email_address= 'varun.kulkarni2107@gmail.com')\n",
    "\n",
    "    try:\n",
    "        downloader.get(\"10-K\", ticker, after = '1995-01-01', before = '2023-12-31')\n",
    "        print(f\"Downloaded {ticker} 10-K filing.\")\n",
    "    except Exception as e:\n",
    "        print(f\"Error downloading {ticker} 10-K filing:\", str(e))"
   ]
  },
  {
   "cell_type": "code",
   "execution_count": 3,
   "metadata": {},
   "outputs": [
    {
     "name": "stdout",
     "output_type": "stream",
     "text": [
      "Downloaded MSFT 10-K filing.\n",
      "Downloaded L 10-K filing.\n",
      "Downloaded JPM 10-K filing.\n"
     ]
    }
   ],
   "source": [
    "ticker = ['MSFT', 'L', 'JPM']\n",
    "for t in ticker:\n",
    "    download_10k_filings(t)"
   ]
  }
 ],
 "metadata": {
  "kernelspec": {
   "display_name": "Python 3",
   "language": "python",
   "name": "python3"
  },
  "language_info": {
   "codemirror_mode": {
    "name": "ipython",
    "version": 3
   },
   "file_extension": ".py",
   "mimetype": "text/x-python",
   "name": "python",
   "nbconvert_exporter": "python",
   "pygments_lexer": "ipython3",
   "version": "3.10.0"
  }
 },
 "nbformat": 4,
 "nbformat_minor": 2
}
